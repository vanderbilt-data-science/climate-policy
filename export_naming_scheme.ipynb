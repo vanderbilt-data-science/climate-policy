{
 "cells": [
  {
   "cell_type": "code",
   "execution_count": 9,
   "id": "157b80cb-c522-4db1-8632-0b35465db4c0",
   "metadata": {},
   "outputs": [
    {
     "name": "stdout",
     "output_type": "stream",
     "text": [
      "\u001b[33mWARNING: Ignoring invalid distribution ~andas (/opt/anaconda3/lib/python3.12/site-packages)\u001b[0m\u001b[33m\n",
      "\u001b[0m\u001b[33mWARNING: Ignoring invalid distribution ~andas (/opt/anaconda3/lib/python3.12/site-packages)\u001b[0m\u001b[33m\n",
      "\u001b[0mRequirement already satisfied: PyMuPDF in /opt/anaconda3/lib/python3.12/site-packages (1.24.11)\n",
      "\u001b[33mWARNING: Ignoring invalid distribution ~andas (/opt/anaconda3/lib/python3.12/site-packages)\u001b[0m\u001b[33m\n",
      "\u001b[0m\u001b[33mWARNING: Ignoring invalid distribution ~andas (/opt/anaconda3/lib/python3.12/site-packages)\u001b[0m\u001b[33m\n",
      "\u001b[0m\u001b[33mWARNING: Ignoring invalid distribution ~andas (/opt/anaconda3/lib/python3.12/site-packages)\u001b[0m\u001b[33m\n",
      "\u001b[0m\u001b[33mWARNING: Ignoring invalid distribution ~andas (/opt/anaconda3/lib/python3.12/site-packages)\u001b[0m\u001b[33m\n",
      "\u001b[0m\u001b[33mWARNING: Ignoring invalid distribution ~andas (/opt/anaconda3/lib/python3.12/site-packages)\u001b[0m\u001b[33m\n",
      "\u001b[0m\u001b[33mWARNING: Ignoring invalid distribution ~andas (/opt/anaconda3/lib/python3.12/site-packages)\u001b[0m\u001b[33m\n",
      "\u001b[0mRequirement already satisfied: openai in /opt/anaconda3/lib/python3.12/site-packages (1.52.0)\n",
      "Requirement already satisfied: anyio<5,>=3.5.0 in /opt/anaconda3/lib/python3.12/site-packages (from openai) (4.2.0)\n",
      "Requirement already satisfied: distro<2,>=1.7.0 in /opt/anaconda3/lib/python3.12/site-packages (from openai) (1.9.0)\n",
      "Requirement already satisfied: httpx<1,>=0.23.0 in /opt/anaconda3/lib/python3.12/site-packages (from openai) (0.27.0)\n",
      "Requirement already satisfied: jiter<1,>=0.4.0 in /opt/anaconda3/lib/python3.12/site-packages (from openai) (0.6.1)\n",
      "Requirement already satisfied: pydantic<3,>=1.9.0 in /opt/anaconda3/lib/python3.12/site-packages (from openai) (2.9.2)\n",
      "Requirement already satisfied: sniffio in /opt/anaconda3/lib/python3.12/site-packages (from openai) (1.3.0)\n",
      "Requirement already satisfied: tqdm>4 in /opt/anaconda3/lib/python3.12/site-packages (from openai) (4.66.4)\n",
      "Requirement already satisfied: typing-extensions<5,>=4.11 in /opt/anaconda3/lib/python3.12/site-packages (from openai) (4.11.0)\n",
      "Requirement already satisfied: idna>=2.8 in /opt/anaconda3/lib/python3.12/site-packages (from anyio<5,>=3.5.0->openai) (3.7)\n",
      "Requirement already satisfied: certifi in /opt/anaconda3/lib/python3.12/site-packages (from httpx<1,>=0.23.0->openai) (2024.8.30)\n",
      "Requirement already satisfied: httpcore==1.* in /opt/anaconda3/lib/python3.12/site-packages (from httpx<1,>=0.23.0->openai) (1.0.2)\n",
      "Requirement already satisfied: h11<0.15,>=0.13 in /opt/anaconda3/lib/python3.12/site-packages (from httpcore==1.*->httpx<1,>=0.23.0->openai) (0.14.0)\n",
      "Requirement already satisfied: annotated-types>=0.6.0 in /opt/anaconda3/lib/python3.12/site-packages (from pydantic<3,>=1.9.0->openai) (0.6.0)\n",
      "Requirement already satisfied: pydantic-core==2.23.4 in /opt/anaconda3/lib/python3.12/site-packages (from pydantic<3,>=1.9.0->openai) (2.23.4)\n",
      "\u001b[33mWARNING: Ignoring invalid distribution ~andas (/opt/anaconda3/lib/python3.12/site-packages)\u001b[0m\u001b[33m\n",
      "\u001b[0m\u001b[33mWARNING: Ignoring invalid distribution ~andas (/opt/anaconda3/lib/python3.12/site-packages)\u001b[0m\u001b[33m\n",
      "\u001b[0m\u001b[33mWARNING: Ignoring invalid distribution ~andas (/opt/anaconda3/lib/python3.12/site-packages)\u001b[0m\u001b[33m\n",
      "\u001b[0m\u001b[33mWARNING: Ignoring invalid distribution ~andas (/opt/anaconda3/lib/python3.12/site-packages)\u001b[0m\u001b[33m\n",
      "\u001b[0m"
     ]
    }
   ],
   "source": [
    "!pip install PyMuPDF\n",
    "!pip install openai"
   ]
  },
  {
   "cell_type": "code",
   "execution_count": 11,
   "id": "8bf8d495-d9f2-46bd-a110-43d0ffd77d4b",
   "metadata": {},
   "outputs": [],
   "source": [
    "import fitz  # PyMuPDF\n",
    "import openai"
   ]
  },
  {
   "cell_type": "code",
   "execution_count": 15,
   "id": "71467265-7f75-4bd0-8769-11fa0cbed4ff",
   "metadata": {},
   "outputs": [],
   "source": [
    "# Set your OpenAI API key\n",
    "openai.api_key = \"sk-proj-gxZhQ2sAl0TmsQzDA2qOT3BlbkFJA0AZTS59Eo0GiScnuJoc\"\n"
   ]
  },
  {
   "cell_type": "code",
   "execution_count": 17,
   "id": "36bfe657-5f44-4e92-949c-7ee92868749a",
   "metadata": {},
   "outputs": [
    {
     "name": "stdout",
     "output_type": "stream",
     "text": [
      "Error generating file name: \n",
      "\n",
      "You tried to access openai.ChatCompletion, but this is no longer supported in openai>=1.0.0 - see the README at https://github.com/openai/openai-python for the API.\n",
      "\n",
      "You can run `openai migrate` to automatically upgrade your codebase to use the 1.0.0 interface. \n",
      "\n",
      "Alternatively, you can pin your installation to the old version, e.g. `pip install openai==0.28`\n",
      "\n",
      "A detailed migration guide is available here: https://github.com/openai/openai-python/discussions/742\n",
      "\n",
      "Generated file name: default_file_name\n"
     ]
    }
   ],
   "source": [
    "def extract_text_from_pdf(pdf_path):\n",
    "    text = \"\"\n",
    "    with fitz.open(pdf_path) as doc:\n",
    "        for page_num in range(len(doc)):\n",
    "            page = doc.load_page(page_num)\n",
    "            text += page.get_text()\n",
    "    return text\n",
    "\n",
    "# Function to extract metadata from the PDF\n",
    "def extract_metadata_from_pdf(pdf_path):\n",
    "    with fitz.open(pdf_path) as doc:\n",
    "        metadata = doc.metadata\n",
    "    return metadata\n",
    "\n",
    "# Function to generate a file name using OpenAI API (ChatCompletion)\n",
    "def generate_file_name_from_pdf(pdf_text, pdf_metadata):\n",
    "    prompt = (\n",
    "        f\"Generate a descriptive file name based on this context: \"\n",
    "        f\"Report titled '{pdf_metadata.get('title', 'Unknown Title')}', \"\n",
    "        f\"created by {pdf_metadata.get('author', 'Unknown Author')} on \"\n",
    "        f\"{pdf_metadata.get('creationDate', 'Unknown Date')}. The document discusses the following topics: \"\n",
    "        f\"{pdf_text[:500]}.\"\n",
    "    )\n",
    "\n",
    "    try:\n",
    "        response = openai.ChatCompletion.create(\n",
    "            model=\"gpt-3.5-turbo\",\n",
    "            messages=[\n",
    "                {\"role\": \"system\", \"content\": \"You are a helpful assistant.\"},\n",
    "                {\"role\": \"user\", \"content\": prompt}\n",
    "            ]\n",
    "        )\n",
    "        file_name = response['choices'][0]['message']['content'].strip()\n",
    "    except Exception as e:\n",
    "        print(f\"Error generating file name: {e}\")\n",
    "        file_name = \"default_file_name\"\n",
    "\n",
    "    return file_name\n",
    "\n",
    "# Example usage\n",
    "def main(pdf_path):\n",
    "    pdf_text = extract_text_from_pdf(pdf_path)\n",
    "    pdf_metadata = extract_metadata_from_pdf(pdf_path)\n",
    "    \n",
    "    file_name = generate_file_name_from_pdf(pdf_text, pdf_metadata)\n",
    "    \n",
    "    print(f\"Generated file name: {file_name}\")\n",
    "\n",
    "# Path to your PDF file\n",
    "pdf_path = \"/Users/xuanchen99/Desktop/climate policy/Jacksonville, FL - Resilient Jacksonville (Oct. 2023).pdf\"\n",
    "main(pdf_path)"
   ]
  },
  {
   "cell_type": "code",
   "execution_count": 19,
   "id": "7a67a36e-5b71-4a9f-875d-f64e09648e87",
   "metadata": {},
   "outputs": [
    {
     "name": "stdout",
     "output_type": "stream",
     "text": [
      "\u001b[33mWARNING: Ignoring invalid distribution ~andas (/opt/anaconda3/lib/python3.12/site-packages)\u001b[0m\u001b[33m\n",
      "\u001b[0m\u001b[33mWARNING: Ignoring invalid distribution ~andas (/opt/anaconda3/lib/python3.12/site-packages)\u001b[0m\u001b[33m\n",
      "\u001b[0mCollecting openai==0.28.0\n",
      "  Using cached openai-0.28.0-py3-none-any.whl.metadata (13 kB)\n",
      "Requirement already satisfied: requests>=2.20 in /opt/anaconda3/lib/python3.12/site-packages (from openai==0.28.0) (2.32.2)\n",
      "Requirement already satisfied: tqdm in /opt/anaconda3/lib/python3.12/site-packages (from openai==0.28.0) (4.66.4)\n",
      "Requirement already satisfied: aiohttp in /opt/anaconda3/lib/python3.12/site-packages (from openai==0.28.0) (3.9.5)\n",
      "Requirement already satisfied: charset-normalizer<4,>=2 in /opt/anaconda3/lib/python3.12/site-packages (from requests>=2.20->openai==0.28.0) (2.0.4)\n",
      "Requirement already satisfied: idna<4,>=2.5 in /opt/anaconda3/lib/python3.12/site-packages (from requests>=2.20->openai==0.28.0) (3.7)\n",
      "Requirement already satisfied: urllib3<3,>=1.21.1 in /opt/anaconda3/lib/python3.12/site-packages (from requests>=2.20->openai==0.28.0) (2.2.2)\n",
      "Requirement already satisfied: certifi>=2017.4.17 in /opt/anaconda3/lib/python3.12/site-packages (from requests>=2.20->openai==0.28.0) (2024.8.30)\n",
      "Requirement already satisfied: aiosignal>=1.1.2 in /opt/anaconda3/lib/python3.12/site-packages (from aiohttp->openai==0.28.0) (1.2.0)\n",
      "Requirement already satisfied: attrs>=17.3.0 in /opt/anaconda3/lib/python3.12/site-packages (from aiohttp->openai==0.28.0) (23.1.0)\n",
      "Requirement already satisfied: frozenlist>=1.1.1 in /opt/anaconda3/lib/python3.12/site-packages (from aiohttp->openai==0.28.0) (1.4.0)\n",
      "Requirement already satisfied: multidict<7.0,>=4.5 in /opt/anaconda3/lib/python3.12/site-packages (from aiohttp->openai==0.28.0) (6.0.4)\n",
      "Requirement already satisfied: yarl<2.0,>=1.0 in /opt/anaconda3/lib/python3.12/site-packages (from aiohttp->openai==0.28.0) (1.9.3)\n",
      "Using cached openai-0.28.0-py3-none-any.whl (76 kB)\n",
      "\u001b[33mWARNING: Ignoring invalid distribution ~andas (/opt/anaconda3/lib/python3.12/site-packages)\u001b[0m\u001b[33m\n",
      "\u001b[0mInstalling collected packages: openai\n",
      "  Attempting uninstall: openai\n",
      "\u001b[33m    WARNING: Ignoring invalid distribution ~andas (/opt/anaconda3/lib/python3.12/site-packages)\u001b[0m\u001b[33m\n",
      "\u001b[0m    Found existing installation: openai 1.52.0\n",
      "    Uninstalling openai-1.52.0:\n",
      "      Successfully uninstalled openai-1.52.0\n",
      "\u001b[33mWARNING: Ignoring invalid distribution ~andas (/opt/anaconda3/lib/python3.12/site-packages)\u001b[0m\u001b[33m\n",
      "\u001b[0mSuccessfully installed openai-0.28.0\n",
      "\u001b[33mWARNING: Ignoring invalid distribution ~andas (/opt/anaconda3/lib/python3.12/site-packages)\u001b[0m\u001b[33m\n",
      "\u001b[0m\u001b[33mWARNING: Ignoring invalid distribution ~andas (/opt/anaconda3/lib/python3.12/site-packages)\u001b[0m\u001b[33m\n",
      "\u001b[0m\u001b[33mWARNING: Ignoring invalid distribution ~andas (/opt/anaconda3/lib/python3.12/site-packages)\u001b[0m\u001b[33m\n",
      "\u001b[0m"
     ]
    }
   ],
   "source": [
    "!pip install openai==0.28.0"
   ]
  },
  {
   "cell_type": "code",
   "execution_count": 21,
   "id": "7e1fffbd-c25e-4a71-b598-cbe8d35b2e0f",
   "metadata": {},
   "outputs": [
    {
     "name": "stdout",
     "output_type": "stream",
     "text": [
      "Error generating file name: \n",
      "\n",
      "You tried to access openai.Completion, but this is no longer supported in openai>=1.0.0 - see the README at https://github.com/openai/openai-python for the API.\n",
      "\n",
      "You can run `openai migrate` to automatically upgrade your codebase to use the 1.0.0 interface. \n",
      "\n",
      "Alternatively, you can pin your installation to the old version, e.g. `pip install openai==0.28`\n",
      "\n",
      "A detailed migration guide is available here: https://github.com/openai/openai-python/discussions/742\n",
      "\n",
      "Generated file name: default_file_name\n"
     ]
    }
   ],
   "source": [
    "import fitz  # PyMuPDF\n",
    "import openai  # OpenAI\n",
    "\n",
    "# Set your OpenAI API key\n",
    "openai.api_key = \"sk-proj-gxZhQ2sAl0TmsQzDA2qOT3BlbkFJA0AZTS59Eo0GiScnuJoc\"\n",
    "\n",
    "# Function to extract text from the PDF\n",
    "def extract_text_from_pdf(pdf_path):\n",
    "    text = \"\"\n",
    "    with fitz.open(pdf_path) as doc:\n",
    "        for page_num in range(len(doc)):\n",
    "            page = doc.load_page(page_num)\n",
    "            text += page.get_text()\n",
    "    return text\n",
    "\n",
    "# Function to extract metadata from the PDF\n",
    "def extract_metadata_from_pdf(pdf_path):\n",
    "    with fitz.open(pdf_path) as doc:\n",
    "        metadata = doc.metadata\n",
    "    return metadata\n",
    "\n",
    "# Function to generate a file name using OpenAI API\n",
    "def generate_file_name_from_pdf(pdf_text, pdf_metadata):\n",
    "    prompt = (\n",
    "        f\"Generate a descriptive file name based on this context: \"\n",
    "        f\"Report titled '{pdf_metadata.get('title', 'Unknown Title')}', \"\n",
    "        f\"created by {pdf_metadata.get('author', 'Unknown Author')} on \"\n",
    "        f\"{pdf_metadata.get('creationDate', 'Unknown Date')}. The document discusses the following topics: \"\n",
    "        f\"{pdf_text[:500]}.\"\n",
    "    )\n",
    "\n",
    "    try:\n",
    "        response = openai.Completion.create(\n",
    "            engine=\"text-davinci-003\",\n",
    "            prompt=prompt,\n",
    "            max_tokens=10\n",
    "        )\n",
    "        file_name = response['choices'][0]['text'].strip()\n",
    "    except Exception as e:\n",
    "        print(f\"Error generating file name: {e}\")\n",
    "        file_name = \"default_file_name\"\n",
    "\n",
    "    return file_name\n",
    "\n",
    "# Example usage\n",
    "def main(pdf_path):\n",
    "    pdf_text = extract_text_from_pdf(pdf_path)\n",
    "    pdf_metadata = extract_metadata_from_pdf(pdf_path)\n",
    "    \n",
    "    file_name = generate_file_name_from_pdf(pdf_text, pdf_metadata)\n",
    "    \n",
    "    print(f\"Generated file name: {file_name}\")\n",
    "\n",
    "# Path to your PDF file\n",
    "pdf_path = \"/Users/xuanchen99/Desktop/climate policy/Jacksonville, FL - Resilient Jacksonville (Oct. 2023).pdf\"\n",
    "main(pdf_path)\n"
   ]
  },
  {
   "cell_type": "code",
   "execution_count": 23,
   "id": "6e498bd2-9ede-4d31-883d-2b5e43e3c668",
   "metadata": {},
   "outputs": [
    {
     "name": "stdout",
     "output_type": "stream",
     "text": [
      "\u001b[33mWARNING: Ignoring invalid distribution ~andas (/opt/anaconda3/lib/python3.12/site-packages)\u001b[0m\u001b[33m\n",
      "\u001b[0m\u001b[33mWARNING: Ignoring invalid distribution ~andas (/opt/anaconda3/lib/python3.12/site-packages)\u001b[0m\u001b[33m\n",
      "\u001b[0mFound existing installation: openai 0.28.0\n",
      "Uninstalling openai-0.28.0:\n",
      "  Successfully uninstalled openai-0.28.0\n"
     ]
    }
   ],
   "source": [
    "!pip uninstall openai -y\n"
   ]
  },
  {
   "cell_type": "code",
   "execution_count": 25,
   "id": "d0a3e725-b8c2-4001-a415-82f642173c23",
   "metadata": {},
   "outputs": [
    {
     "name": "stdout",
     "output_type": "stream",
     "text": [
      "\u001b[33mWARNING: Ignoring invalid distribution ~andas (/opt/anaconda3/lib/python3.12/site-packages)\u001b[0m\u001b[33m\n",
      "\u001b[0m\u001b[33mWARNING: Ignoring invalid distribution ~andas (/opt/anaconda3/lib/python3.12/site-packages)\u001b[0m\u001b[33m\n",
      "\u001b[0mCollecting openai==0.28.0\n",
      "  Using cached openai-0.28.0-py3-none-any.whl.metadata (13 kB)\n",
      "Requirement already satisfied: requests>=2.20 in /opt/anaconda3/lib/python3.12/site-packages (from openai==0.28.0) (2.32.2)\n",
      "Requirement already satisfied: tqdm in /opt/anaconda3/lib/python3.12/site-packages (from openai==0.28.0) (4.66.4)\n",
      "Requirement already satisfied: aiohttp in /opt/anaconda3/lib/python3.12/site-packages (from openai==0.28.0) (3.9.5)\n",
      "Requirement already satisfied: charset-normalizer<4,>=2 in /opt/anaconda3/lib/python3.12/site-packages (from requests>=2.20->openai==0.28.0) (2.0.4)\n",
      "Requirement already satisfied: idna<4,>=2.5 in /opt/anaconda3/lib/python3.12/site-packages (from requests>=2.20->openai==0.28.0) (3.7)\n",
      "Requirement already satisfied: urllib3<3,>=1.21.1 in /opt/anaconda3/lib/python3.12/site-packages (from requests>=2.20->openai==0.28.0) (2.2.2)\n",
      "Requirement already satisfied: certifi>=2017.4.17 in /opt/anaconda3/lib/python3.12/site-packages (from requests>=2.20->openai==0.28.0) (2024.8.30)\n",
      "Requirement already satisfied: aiosignal>=1.1.2 in /opt/anaconda3/lib/python3.12/site-packages (from aiohttp->openai==0.28.0) (1.2.0)\n",
      "Requirement already satisfied: attrs>=17.3.0 in /opt/anaconda3/lib/python3.12/site-packages (from aiohttp->openai==0.28.0) (23.1.0)\n",
      "Requirement already satisfied: frozenlist>=1.1.1 in /opt/anaconda3/lib/python3.12/site-packages (from aiohttp->openai==0.28.0) (1.4.0)\n",
      "Requirement already satisfied: multidict<7.0,>=4.5 in /opt/anaconda3/lib/python3.12/site-packages (from aiohttp->openai==0.28.0) (6.0.4)\n",
      "Requirement already satisfied: yarl<2.0,>=1.0 in /opt/anaconda3/lib/python3.12/site-packages (from aiohttp->openai==0.28.0) (1.9.3)\n",
      "Using cached openai-0.28.0-py3-none-any.whl (76 kB)\n",
      "\u001b[33mWARNING: Ignoring invalid distribution ~andas (/opt/anaconda3/lib/python3.12/site-packages)\u001b[0m\u001b[33m\n",
      "\u001b[0mInstalling collected packages: openai\n",
      "\u001b[33mWARNING: Ignoring invalid distribution ~andas (/opt/anaconda3/lib/python3.12/site-packages)\u001b[0m\u001b[33m\n",
      "\u001b[0mSuccessfully installed openai-0.28.0\n",
      "\u001b[33mWARNING: Ignoring invalid distribution ~andas (/opt/anaconda3/lib/python3.12/site-packages)\u001b[0m\u001b[33m\n",
      "\u001b[0m\u001b[33mWARNING: Ignoring invalid distribution ~andas (/opt/anaconda3/lib/python3.12/site-packages)\u001b[0m\u001b[33m\n",
      "\u001b[0m\u001b[33mWARNING: Ignoring invalid distribution ~andas (/opt/anaconda3/lib/python3.12/site-packages)\u001b[0m\u001b[33m\n",
      "\u001b[0m"
     ]
    }
   ],
   "source": [
    "!pip install openai==0.28.0\n"
   ]
  },
  {
   "cell_type": "code",
   "execution_count": 27,
   "id": "20bf0cf1-ad03-4d2c-afc4-361056726e77",
   "metadata": {},
   "outputs": [
    {
     "name": "stdout",
     "output_type": "stream",
     "text": [
      "1.52.0\n"
     ]
    }
   ],
   "source": [
    "import openai\n",
    "print(openai.__version__)  # Should print 0.28.0\n"
   ]
  },
  {
   "cell_type": "code",
   "execution_count": 29,
   "id": "a7a9e896-ef51-4d4e-b7b1-07c323a4c2c0",
   "metadata": {},
   "outputs": [
    {
     "name": "stdout",
     "output_type": "stream",
     "text": [
      "\u001b[33mWARNING: Ignoring invalid distribution ~andas (/opt/anaconda3/lib/python3.12/site-packages)\u001b[0m\u001b[33m\n",
      "\u001b[0m\u001b[33mWARNING: Ignoring invalid distribution ~andas (/opt/anaconda3/lib/python3.12/site-packages)\u001b[0m\u001b[33m\n",
      "\u001b[0mFound existing installation: openai 0.28.0\n",
      "Uninstalling openai-0.28.0:\n",
      "  Successfully uninstalled openai-0.28.0\n"
     ]
    }
   ],
   "source": [
    "!pip uninstall openai -y\n"
   ]
  },
  {
   "cell_type": "code",
   "execution_count": 31,
   "id": "2512e225-c4fa-4d70-a061-e0e1426bdf41",
   "metadata": {},
   "outputs": [
    {
     "name": "stdout",
     "output_type": "stream",
     "text": [
      "\u001b[33mWARNING: Ignoring invalid distribution ~andas (/opt/anaconda3/lib/python3.12/site-packages)\u001b[0m\u001b[33m\n",
      "\u001b[0m\u001b[33mWARNING: Ignoring invalid distribution ~andas (/opt/anaconda3/lib/python3.12/site-packages)\u001b[0m\u001b[33m\n",
      "\u001b[0mCollecting openai==0.28.0\n",
      "  Using cached openai-0.28.0-py3-none-any.whl.metadata (13 kB)\n",
      "Requirement already satisfied: requests>=2.20 in /opt/anaconda3/lib/python3.12/site-packages (from openai==0.28.0) (2.32.2)\n",
      "Requirement already satisfied: tqdm in /opt/anaconda3/lib/python3.12/site-packages (from openai==0.28.0) (4.66.4)\n",
      "Requirement already satisfied: aiohttp in /opt/anaconda3/lib/python3.12/site-packages (from openai==0.28.0) (3.9.5)\n",
      "Requirement already satisfied: charset-normalizer<4,>=2 in /opt/anaconda3/lib/python3.12/site-packages (from requests>=2.20->openai==0.28.0) (2.0.4)\n",
      "Requirement already satisfied: idna<4,>=2.5 in /opt/anaconda3/lib/python3.12/site-packages (from requests>=2.20->openai==0.28.0) (3.7)\n",
      "Requirement already satisfied: urllib3<3,>=1.21.1 in /opt/anaconda3/lib/python3.12/site-packages (from requests>=2.20->openai==0.28.0) (2.2.2)\n",
      "Requirement already satisfied: certifi>=2017.4.17 in /opt/anaconda3/lib/python3.12/site-packages (from requests>=2.20->openai==0.28.0) (2024.8.30)\n",
      "Requirement already satisfied: aiosignal>=1.1.2 in /opt/anaconda3/lib/python3.12/site-packages (from aiohttp->openai==0.28.0) (1.2.0)\n",
      "Requirement already satisfied: attrs>=17.3.0 in /opt/anaconda3/lib/python3.12/site-packages (from aiohttp->openai==0.28.0) (23.1.0)\n",
      "Requirement already satisfied: frozenlist>=1.1.1 in /opt/anaconda3/lib/python3.12/site-packages (from aiohttp->openai==0.28.0) (1.4.0)\n",
      "Requirement already satisfied: multidict<7.0,>=4.5 in /opt/anaconda3/lib/python3.12/site-packages (from aiohttp->openai==0.28.0) (6.0.4)\n",
      "Requirement already satisfied: yarl<2.0,>=1.0 in /opt/anaconda3/lib/python3.12/site-packages (from aiohttp->openai==0.28.0) (1.9.3)\n",
      "Using cached openai-0.28.0-py3-none-any.whl (76 kB)\n",
      "\u001b[33mWARNING: Ignoring invalid distribution ~andas (/opt/anaconda3/lib/python3.12/site-packages)\u001b[0m\u001b[33m\n",
      "\u001b[0mInstalling collected packages: openai\n",
      "\u001b[33mWARNING: Ignoring invalid distribution ~andas (/opt/anaconda3/lib/python3.12/site-packages)\u001b[0m\u001b[33m\n",
      "\u001b[0mSuccessfully installed openai-0.28.0\n",
      "\u001b[33mWARNING: Ignoring invalid distribution ~andas (/opt/anaconda3/lib/python3.12/site-packages)\u001b[0m\u001b[33m\n",
      "\u001b[0m\u001b[33mWARNING: Ignoring invalid distribution ~andas (/opt/anaconda3/lib/python3.12/site-packages)\u001b[0m\u001b[33m\n",
      "\u001b[0m\u001b[33mWARNING: Ignoring invalid distribution ~andas (/opt/anaconda3/lib/python3.12/site-packages)\u001b[0m\u001b[33m\n",
      "\u001b[0m"
     ]
    }
   ],
   "source": [
    "!pip install openai==0.28.0\n"
   ]
  },
  {
   "cell_type": "code",
   "execution_count": 33,
   "id": "a1de4945-28e2-4628-b041-639eef7305fe",
   "metadata": {},
   "outputs": [
    {
     "name": "stdout",
     "output_type": "stream",
     "text": [
      "1.52.0\n"
     ]
    }
   ],
   "source": [
    "import openai\n",
    "print(openai.__version__)  # Should print 0.28.0\n"
   ]
  },
  {
   "cell_type": "code",
   "execution_count": 35,
   "id": "4e16d5a4-5e4e-4cbd-8f2a-ddac6e8f2989",
   "metadata": {},
   "outputs": [
    {
     "name": "stdout",
     "output_type": "stream",
     "text": [
      "\u001b[33mWARNING: Ignoring invalid distribution ~andas (/opt/anaconda3/lib/python3.12/site-packages)\u001b[0m\u001b[33m\n",
      "\u001b[0m\u001b[33mWARNING: Ignoring invalid distribution ~andas (/opt/anaconda3/lib/python3.12/site-packages)\u001b[0m\u001b[33m\n",
      "\u001b[0mFound existing installation: openai 0.28.0\n",
      "Uninstalling openai-0.28.0:\n",
      "  Successfully uninstalled openai-0.28.0\n"
     ]
    }
   ],
   "source": [
    "!pip uninstall openai -y\n"
   ]
  },
  {
   "cell_type": "code",
   "execution_count": 37,
   "id": "e98a4820-1d6b-483c-b7ee-f778be11745b",
   "metadata": {},
   "outputs": [
    {
     "name": "stdout",
     "output_type": "stream",
     "text": [
      "1.52.0\n"
     ]
    }
   ],
   "source": [
    "import openai\n",
    "print(openai.__version__)\n"
   ]
  },
  {
   "cell_type": "code",
   "execution_count": 39,
   "id": "6235b026-2871-424d-8927-f61303dc7ce5",
   "metadata": {},
   "outputs": [
    {
     "name": "stdout",
     "output_type": "stream",
     "text": [
      "\u001b[33mWARNING: Ignoring invalid distribution ~andas (/opt/anaconda3/lib/python3.12/site-packages)\u001b[0m\u001b[33m\n",
      "\u001b[0m\u001b[33mWARNING: Ignoring invalid distribution ~andas (/opt/anaconda3/lib/python3.12/site-packages)\u001b[0m\u001b[33m\n",
      "\u001b[0mCollecting openai==0.28.0\n",
      "  Using cached openai-0.28.0-py3-none-any.whl.metadata (13 kB)\n",
      "Requirement already satisfied: requests>=2.20 in /opt/anaconda3/lib/python3.12/site-packages (from openai==0.28.0) (2.32.2)\n",
      "Requirement already satisfied: tqdm in /opt/anaconda3/lib/python3.12/site-packages (from openai==0.28.0) (4.66.4)\n",
      "Requirement already satisfied: aiohttp in /opt/anaconda3/lib/python3.12/site-packages (from openai==0.28.0) (3.9.5)\n",
      "Requirement already satisfied: charset-normalizer<4,>=2 in /opt/anaconda3/lib/python3.12/site-packages (from requests>=2.20->openai==0.28.0) (2.0.4)\n",
      "Requirement already satisfied: idna<4,>=2.5 in /opt/anaconda3/lib/python3.12/site-packages (from requests>=2.20->openai==0.28.0) (3.7)\n",
      "Requirement already satisfied: urllib3<3,>=1.21.1 in /opt/anaconda3/lib/python3.12/site-packages (from requests>=2.20->openai==0.28.0) (2.2.2)\n",
      "Requirement already satisfied: certifi>=2017.4.17 in /opt/anaconda3/lib/python3.12/site-packages (from requests>=2.20->openai==0.28.0) (2024.8.30)\n",
      "Requirement already satisfied: aiosignal>=1.1.2 in /opt/anaconda3/lib/python3.12/site-packages (from aiohttp->openai==0.28.0) (1.2.0)\n",
      "Requirement already satisfied: attrs>=17.3.0 in /opt/anaconda3/lib/python3.12/site-packages (from aiohttp->openai==0.28.0) (23.1.0)\n",
      "Requirement already satisfied: frozenlist>=1.1.1 in /opt/anaconda3/lib/python3.12/site-packages (from aiohttp->openai==0.28.0) (1.4.0)\n",
      "Requirement already satisfied: multidict<7.0,>=4.5 in /opt/anaconda3/lib/python3.12/site-packages (from aiohttp->openai==0.28.0) (6.0.4)\n",
      "Requirement already satisfied: yarl<2.0,>=1.0 in /opt/anaconda3/lib/python3.12/site-packages (from aiohttp->openai==0.28.0) (1.9.3)\n",
      "Using cached openai-0.28.0-py3-none-any.whl (76 kB)\n",
      "\u001b[33mWARNING: Ignoring invalid distribution ~andas (/opt/anaconda3/lib/python3.12/site-packages)\u001b[0m\u001b[33m\n",
      "\u001b[0mInstalling collected packages: openai\n",
      "\u001b[33mWARNING: Ignoring invalid distribution ~andas (/opt/anaconda3/lib/python3.12/site-packages)\u001b[0m\u001b[33m\n",
      "\u001b[0mSuccessfully installed openai-0.28.0\n",
      "\u001b[33mWARNING: Ignoring invalid distribution ~andas (/opt/anaconda3/lib/python3.12/site-packages)\u001b[0m\u001b[33m\n",
      "\u001b[0m\u001b[33mWARNING: Ignoring invalid distribution ~andas (/opt/anaconda3/lib/python3.12/site-packages)\u001b[0m\u001b[33m\n",
      "\u001b[0m\u001b[33mWARNING: Ignoring invalid distribution ~andas (/opt/anaconda3/lib/python3.12/site-packages)\u001b[0m\u001b[33m\n",
      "\u001b[0m"
     ]
    }
   ],
   "source": [
    "!pip install openai==0.28.0\n"
   ]
  },
  {
   "cell_type": "code",
   "execution_count": 41,
   "id": "60557b50-3706-4bcd-8d9b-87bfb7f9530b",
   "metadata": {},
   "outputs": [
    {
     "name": "stdout",
     "output_type": "stream",
     "text": [
      "1.52.0\n"
     ]
    }
   ],
   "source": [
    "import openai\n",
    "print(openai.__version__)  # Should print 0.28.0\n"
   ]
  },
  {
   "cell_type": "code",
   "execution_count": 43,
   "id": "2acefcd2-909b-4fce-9ed9-3f40f584e47b",
   "metadata": {},
   "outputs": [
    {
     "name": "stdout",
     "output_type": "stream",
     "text": [
      "\n",
      "PackagesNotFoundError: The following packages are missing from the target environment:\n",
      "  - openai\n",
      "\n",
      "\n",
      "\n",
      "Note: you may need to restart the kernel to use updated packages.\n"
     ]
    }
   ],
   "source": [
    "conda remove openai\n"
   ]
  },
  {
   "cell_type": "code",
   "execution_count": 1,
   "id": "d542102e-b23b-478a-a05d-7c1ebeab3af2",
   "metadata": {},
   "outputs": [
    {
     "name": "stdout",
     "output_type": "stream",
     "text": [
      "\u001b[33mWARNING: Ignoring invalid distribution ~andas (/opt/anaconda3/lib/python3.12/site-packages)\u001b[0m\u001b[33m\n",
      "\u001b[0m\u001b[33mWARNING: Ignoring invalid distribution ~andas (/opt/anaconda3/lib/python3.12/site-packages)\u001b[0m\u001b[33m\n",
      "\u001b[0mRequirement already satisfied: openai==0.28.0 in /opt/anaconda3/lib/python3.12/site-packages (0.28.0)\n",
      "Requirement already satisfied: requests>=2.20 in /opt/anaconda3/lib/python3.12/site-packages (from openai==0.28.0) (2.32.2)\n",
      "Requirement already satisfied: tqdm in /opt/anaconda3/lib/python3.12/site-packages (from openai==0.28.0) (4.66.4)\n",
      "Requirement already satisfied: aiohttp in /opt/anaconda3/lib/python3.12/site-packages (from openai==0.28.0) (3.9.5)\n",
      "Requirement already satisfied: charset-normalizer<4,>=2 in /opt/anaconda3/lib/python3.12/site-packages (from requests>=2.20->openai==0.28.0) (2.0.4)\n",
      "Requirement already satisfied: idna<4,>=2.5 in /opt/anaconda3/lib/python3.12/site-packages (from requests>=2.20->openai==0.28.0) (3.7)\n",
      "Requirement already satisfied: urllib3<3,>=1.21.1 in /opt/anaconda3/lib/python3.12/site-packages (from requests>=2.20->openai==0.28.0) (2.2.2)\n",
      "Requirement already satisfied: certifi>=2017.4.17 in /opt/anaconda3/lib/python3.12/site-packages (from requests>=2.20->openai==0.28.0) (2024.8.30)\n",
      "Requirement already satisfied: aiosignal>=1.1.2 in /opt/anaconda3/lib/python3.12/site-packages (from aiohttp->openai==0.28.0) (1.2.0)\n",
      "Requirement already satisfied: attrs>=17.3.0 in /opt/anaconda3/lib/python3.12/site-packages (from aiohttp->openai==0.28.0) (23.1.0)\n",
      "Requirement already satisfied: frozenlist>=1.1.1 in /opt/anaconda3/lib/python3.12/site-packages (from aiohttp->openai==0.28.0) (1.4.0)\n",
      "Requirement already satisfied: multidict<7.0,>=4.5 in /opt/anaconda3/lib/python3.12/site-packages (from aiohttp->openai==0.28.0) (6.0.4)\n",
      "Requirement already satisfied: yarl<2.0,>=1.0 in /opt/anaconda3/lib/python3.12/site-packages (from aiohttp->openai==0.28.0) (1.9.3)\n",
      "\u001b[33mWARNING: Ignoring invalid distribution ~andas (/opt/anaconda3/lib/python3.12/site-packages)\u001b[0m\u001b[33m\n",
      "\u001b[0m\u001b[33mWARNING: Ignoring invalid distribution ~andas (/opt/anaconda3/lib/python3.12/site-packages)\u001b[0m\u001b[33m\n",
      "\u001b[0m\u001b[33mWARNING: Ignoring invalid distribution ~andas (/opt/anaconda3/lib/python3.12/site-packages)\u001b[0m\u001b[33m\n",
      "\u001b[0m\u001b[33mWARNING: Ignoring invalid distribution ~andas (/opt/anaconda3/lib/python3.12/site-packages)\u001b[0m\u001b[33m\n",
      "\u001b[0m"
     ]
    }
   ],
   "source": [
    "!pip install openai==0.28.0\n"
   ]
  },
  {
   "cell_type": "code",
   "execution_count": 3,
   "id": "74963e06-216d-4aff-a690-bc68957d899f",
   "metadata": {},
   "outputs": [
    {
     "name": "stdout",
     "output_type": "stream",
     "text": [
      "0.28.0\n"
     ]
    }
   ],
   "source": [
    "import openai\n",
    "print(openai.__version__)\n"
   ]
  },
  {
   "cell_type": "code",
   "execution_count": 5,
   "id": "2ace52b1-2329-4762-b9ae-746e19f11b61",
   "metadata": {},
   "outputs": [
    {
     "name": "stdout",
     "output_type": "stream",
     "text": [
      "Error generating file name: The model `text-davinci-003` has been deprecated, learn more here: https://platform.openai.com/docs/deprecations\n",
      "Generated file name: default_file_name\n"
     ]
    }
   ],
   "source": [
    "import fitz  # PyMuPDF\n",
    "import openai  # OpenAI\n",
    "\n",
    "# Set your OpenAI API key\n",
    "openai.api_key = \"sk-proj-gxZhQ2sAl0TmsQzDA2qOT3BlbkFJA0AZTS59Eo0GiScnuJoc\"\n",
    "\n",
    "# Function to extract text from the PDF\n",
    "def extract_text_from_pdf(pdf_path):\n",
    "    text = \"\"\n",
    "    with fitz.open(pdf_path) as doc:\n",
    "        for page_num in range(len(doc)):\n",
    "            page = doc.load_page(page_num)\n",
    "            text += page.get_text()\n",
    "    return text\n",
    "\n",
    "# Function to extract metadata from the PDF\n",
    "def extract_metadata_from_pdf(pdf_path):\n",
    "    with fitz.open(pdf_path) as doc:\n",
    "        metadata = doc.metadata\n",
    "    return metadata\n",
    "\n",
    "# Function to generate a file name using OpenAI API\n",
    "def generate_file_name_from_pdf(pdf_text, pdf_metadata):\n",
    "    prompt = (\n",
    "        f\"Generate a descriptive file name based on this context: \"\n",
    "        f\"Report titled '{pdf_metadata.get('title', 'Unknown Title')}', \"\n",
    "        f\"created by {pdf_metadata.get('author', 'Unknown Author')} on \"\n",
    "        f\"{pdf_metadata.get('creationDate', 'Unknown Date')}. The document discusses the following topics: \"\n",
    "        f\"{pdf_text[:500]}.\"\n",
    "    )\n",
    "\n",
    "    try:\n",
    "        response = openai.Completion.create(\n",
    "            engine=\"text-davinci-003\",\n",
    "            prompt=prompt,\n",
    "            max_tokens=10\n",
    "        )\n",
    "        file_name = response['choices'][0]['text'].strip()\n",
    "    except Exception as e:\n",
    "        print(f\"Error generating file name: {e}\")\n",
    "        file_name = \"default_file_name\"\n",
    "\n",
    "    return file_name\n",
    "\n",
    "# Example usage\n",
    "def main(pdf_path):\n",
    "    pdf_text = extract_text_from_pdf(pdf_path)\n",
    "    pdf_metadata = extract_metadata_from_pdf(pdf_path)\n",
    "    \n",
    "    file_name = generate_file_name_from_pdf(pdf_text, pdf_metadata)\n",
    "    \n",
    "    print(f\"Generated file name: {file_name}\")\n",
    "\n",
    "# Path to your PDF file\n",
    "pdf_path = \"/Users/xuanchen99/Desktop/climate policy/Jacksonville, FL - Resilient Jacksonville (Oct. 2023).pdf\"\n",
    "main(pdf_path)\n"
   ]
  },
  {
   "cell_type": "code",
   "execution_count": 7,
   "id": "a42c37e3-4d9f-42bd-85f6-53dea60c0efb",
   "metadata": {},
   "outputs": [
    {
     "name": "stdout",
     "output_type": "stream",
     "text": [
      "Generated file name: \"Resilient Jacksonville City Report - 2023-10-10\"\n"
     ]
    }
   ],
   "source": [
    "import fitz  # PyMuPDF\n",
    "import openai  # OpenAI\n",
    "\n",
    "# Set your OpenAI API key\n",
    "openai.api_key = \"sk-proj-gxZhQ2sAl0TmsQzDA2qOT3BlbkFJA0AZTS59Eo0GiScnuJoc\"\n",
    "\n",
    "# Function to extract text from the PDF\n",
    "def extract_text_from_pdf(pdf_path):\n",
    "    text = \"\"\n",
    "    with fitz.open(pdf_path) as doc:\n",
    "        for page_num in range(len(doc)):\n",
    "            page = doc.load_page(page_num)\n",
    "            text += page.get_text()\n",
    "    return text\n",
    "\n",
    "# Function to extract metadata from the PDF\n",
    "def extract_metadata_from_pdf(pdf_path):\n",
    "    with fitz.open(pdf_path) as doc:\n",
    "        metadata = doc.metadata\n",
    "    return metadata\n",
    "\n",
    "# Function to generate a file name using OpenAI API (ChatCompletion with gpt-3.5-turbo)\n",
    "def generate_file_name_from_pdf(pdf_text, pdf_metadata):\n",
    "    prompt = (\n",
    "        f\"Generate a descriptive file name based on this context: \"\n",
    "        f\"Report titled '{pdf_metadata.get('title', 'Unknown Title')}', \"\n",
    "        f\"created by {pdf_metadata.get('author', 'Unknown Author')} on \"\n",
    "        f\"{pdf_metadata.get('creationDate', 'Unknown Date')}. The document discusses the following topics: \"\n",
    "        f\"{pdf_text[:500]}.\"\n",
    "    )\n",
    "\n",
    "    try:\n",
    "        response = openai.ChatCompletion.create(\n",
    "            model=\"gpt-3.5-turbo\",\n",
    "            messages=[\n",
    "                {\"role\": \"system\", \"content\": \"You are a helpful assistant.\"},\n",
    "                {\"role\": \"user\", \"content\": prompt}\n",
    "            ]\n",
    "        )\n",
    "        file_name = response['choices'][0]['message']['content'].strip()\n",
    "    except Exception as e:\n",
    "        print(f\"Error generating file name: {e}\")\n",
    "        file_name = \"default_file_name\"\n",
    "\n",
    "    return file_name\n",
    "\n",
    "# Example usage\n",
    "def main(pdf_path):\n",
    "    pdf_text = extract_text_from_pdf(pdf_path)\n",
    "    pdf_metadata = extract_metadata_from_pdf(pdf_path)\n",
    "    \n",
    "    file_name = generate_file_name_from_pdf(pdf_text, pdf_metadata)\n",
    "    \n",
    "    print(f\"Generated file name: {file_name}\")\n",
    "\n",
    "# Path to your PDF file\n",
    "pdf_path = \"/Users/xuanchen99/Desktop/climate policy/Jacksonville, FL - Resilient Jacksonville (Oct. 2023).pdf\"\n",
    "main(pdf_path)\n"
   ]
  },
  {
   "cell_type": "code",
   "execution_count": null,
   "id": "7e421290-4016-47d3-a2f9-4426b8455d13",
   "metadata": {},
   "outputs": [],
   "source": []
  }
 ],
 "metadata": {
  "kernelspec": {
   "display_name": "Python 3 (ipykernel)",
   "language": "python",
   "name": "python3"
  },
  "language_info": {
   "codemirror_mode": {
    "name": "ipython",
    "version": 3
   },
   "file_extension": ".py",
   "mimetype": "text/x-python",
   "name": "python",
   "nbconvert_exporter": "python",
   "pygments_lexer": "ipython3",
   "version": "3.12.2"
  }
 },
 "nbformat": 4,
 "nbformat_minor": 5
}
